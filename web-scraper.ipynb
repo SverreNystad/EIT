{
 "cells": [
  {
   "cell_type": "code",
   "execution_count": null,
   "metadata": {},
   "outputs": [],
   "source": [
    "%pip install requests selenium"
   ]
  },
  {
   "cell_type": "code",
   "execution_count": null,
   "metadata": {},
   "outputs": [],
   "source": [
    "import requests\n",
    "\n",
    "url = \"https://mattilbud.no/kundeaviser/bunnpris-no\"\n",
    "response = requests.get(url)\n",
    "print(response.text)"
   ]
  },
  {
   "cell_type": "code",
   "execution_count": null,
   "metadata": {},
   "outputs": [],
   "source": [
    "import time\n",
    "from selenium import webdriver\n",
    "from selenium.webdriver.chrome.service import Service\n",
    "from selenium.webdriver.chrome.options import Options\n",
    "from selenium.webdriver.support.wait import WebDriverWait\n",
    "\n",
    "# Set up Chrome options\n",
    "chrome_options = Options()\n",
    "\n",
    "driver = webdriver.Chrome(options=chrome_options)\n",
    "\n",
    "# Open the URL and wait for the page to fully load\n",
    "driver.get(\"https://mattilbud.no/kundeaviser/bunnpris-no\")\n",
    "driver.implicitly_wait(100)  # Wait for elements to load\n",
    "time.sleep(2)\n",
    "wait = WebDriverWait(driver, timeout=20)\n",
    "\n",
    "\n",
    "# Get the fully rendered page source\n",
    "rendered_html = driver.page_source\n",
    "print(rendered_html)\n",
    "\n",
    "#driver.quit()\n",
    "\n",
    "\n"
   ]
  },
  {
   "cell_type": "code",
   "execution_count": null,
   "metadata": {},
   "outputs": [
    {
     "name": "stdout",
     "output_type": "stream",
     "text": [
      "Found 22 images on the page.\n",
      "Downloading image 0 from: https://image-transformer-api.tjek.com/?u=s3%3A%2F%2Fsgn-prd-assets%2Fuploads%2Fdwe--f-j%2Fp-1.webp&w=1100&s=33012ed8b3bd66e6945bb6de1981d407\n",
      "Downloading image 1 from: https://image-transformer-api.tjek.com/?u=s3%3A%2F%2Fsgn-prd-assets%2Fuploads%2Fdwe--f-j%2Fp-2.webp&w=1100&s=e09fbad2ba820117f10a8dda53c4ce90\n",
      "Downloading image 2 from: https://image-transformer-api.tjek.com/?u=s3%3A%2F%2Fsgn-prd-assets%2Fuploads%2Fdwe--f-j%2Fp-3.webp&w=1100&s=3465aceff4aed6ef4daf67c20743e686\n",
      "Downloading image 3 from: https://image-transformer-api.tjek.com/?u=s3%3A%2F%2Fsgn-prd-assets%2Fuploads%2Fdwe--f-j%2Fp-4.webp&w=1100&s=01018200913b0bfce1eb58c5d6be084f\n",
      "Downloading image 4 from: https://image-transformer-api.tjek.com/?u=s3%3A%2F%2Fsgn-prd-assets%2Fuploads%2Fdwe--f-j%2Fp-5.webp&w=1100&s=f78c500a5ac35a6d47313976c32680e2\n",
      "Downloading image 5 from: https://image-transformer-api.tjek.com/?u=s3%3A%2F%2Fsgn-prd-assets%2Fuploads%2Fdwe--f-j%2Fp-6.webp&w=1100&s=3be04ec92366afc72b0bd5b381e0d5e8\n",
      "Downloading image 6 from: https://image-transformer-api.tjek.com/?u=s3%3A%2F%2Fsgn-prd-assets%2Fuploads%2Fdwe--f-j%2Fp-7.webp&w=1100&s=65ec2eb4bbb9265e2314ebb1a6594179\n",
      "Downloading image 7 from: https://image-transformer-api.tjek.com/?u=s3%3A%2F%2Fsgn-prd-assets%2Fuploads%2Fdwe--f-j%2Fp-8.webp&w=1100&s=9760568f9e9ea371e5ff0b78fa8adf12\n",
      "Downloading image 8 from: https://image-transformer-api.tjek.com/?u=s3%3A%2F%2Fsgn-prd-assets%2Fuploads%2Fdwe--f-j%2Fp-9.webp&w=1100&s=99251ab7a245b046a555da323e48fb9f\n",
      "Downloading image 9 from: https://image-transformer-api.tjek.com/?u=s3%3A%2F%2Fsgn-prd-assets%2Fuploads%2Fdwe--f-j%2Fp-10.webp&w=1100&s=6cd833eea8db3529d6b5defe05424bfd\n",
      "Downloading image 10 from: https://image-transformer-api.tjek.com/?u=s3%3A%2F%2Fsgn-prd-assets%2Fuploads%2Fdwe--f-j%2Fp-11.webp&w=1100&s=53ec220b799536f589d66c06ddc298bf\n",
      "Downloading image 11 from: https://image-transformer-api.tjek.com/?u=s3%3A%2F%2Fsgn-prd-assets%2Fuploads%2Fdwe--f-j%2Fp-12.webp&w=1100&s=e513228e0c0fa8298b2a3c5f85cb0a51\n",
      "Downloading image 12 from: https://image-transformer-api.tjek.com/?u=s3%3A%2F%2Fsgn-prd-assets%2Fuploads%2Fdwe--f-j%2Fp-13.webp&w=1100&s=a66f01e1ba01974959b78b2079107685\n",
      "Downloading image 13 from: https://image-transformer-api.tjek.com/?u=s3%3A%2F%2Fsgn-prd-assets%2Fuploads%2Fdwe--f-j%2Fp-14.webp&w=1100&s=f79c04c6a269453e7441fae1cbb17a34\n",
      "Downloading image 14 from: https://image-transformer-api.tjek.com/?u=s3%3A%2F%2Fsgn-prd-assets%2Fuploads%2Fdwe--f-j%2Fp-15.webp&w=1100&s=d1778449cd92818b8711724173c22dce\n",
      "Downloading image 15 from: https://image-transformer-api.tjek.com/?u=s3%3A%2F%2Fsgn-prd-assets%2Fuploads%2Fdwe--f-j%2Fp-16.webp&w=1100&s=e2216cddafcf003b98ac9ec84ed80187\n",
      "Downloading image 16 from: https://image-transformer-api.tjek.com/?u=s3%3A%2F%2Fsgn-prd-assets%2Fuploads%2Fdwe--f-j%2Fp-17.webp&w=1100&s=3b217d46498c4aed45e4865e444963f6\n",
      "Downloading image 17 from: https://image-transformer-api.tjek.com/?u=s3%3A%2F%2Fsgn-prd-assets%2Fuploads%2Fdwe--f-j%2Fp-18.webp&w=1100&s=f4e9e67ec5df77bfa902f20bea6d32a6\n",
      "Downloading image 18 from: https://image-transformer-api.tjek.com/?u=s3%3A%2F%2Fsgn-prd-assets%2Fuploads%2Fdwe--f-j%2Fp-19.webp&w=1100&s=6d043b009f6a6e2b91381fdbfd460f32\n",
      "Downloading image 19 from: https://image-transformer-api.tjek.com/?u=s3%3A%2F%2Fsgn-prd-assets%2Fuploads%2Fdwe--f-j%2Fp-20.webp&w=1100&s=e2ab250947d99ff1824e8ee40308228f\n",
      "Downloading image 20 from: https://image-transformer-api.tjek.com/?u=s3%3A%2F%2Fsgn-prd-assets%2Fuploads%2Fdwe--f-j%2Fp-21.webp&w=1100&s=aa0f0826a08c7ba2e395d3556ec24816\n",
      "Downloading image 21 from: https://image-transformer-api.tjek.com/?u=s3%3A%2F%2Fsgn-prd-assets%2Fuploads%2Fdwe--f-j%2Fp-22.webp&w=1100&s=f509cb396bc02c6f54b9a6207af562f3\n"
     ]
    }
   ],
   "source": [
    "import os\n",
    "from selenium.webdriver.common.by import By\n",
    "chrome_options = Options()\n",
    "driver = webdriver.Chrome(options=chrome_options)\n",
    "\n",
    "pages = [\n",
    "    \"bunnpris-no\",\n",
    "    \"coop-extra-no\",\n",
    "    \"coop-mega-no\",\n",
    "    \"coop-prix-no\",\n",
    "    \"eurocash-se\",\n",
    "    \"europris-no\",\n",
    "    \"joker-no\",\n",
    "    \"kiwi-no\",\n",
    "    \"meny-no\",\n",
    "    \"gigaboks-no\",\n",
    "    \"holdbart-no\",\n",
    "    \"jacobs-no\",\n",
    "    \"matkroken-no\",\n",
    "]\n",
    "# Open the URL and wait for the page to fully load\n",
    "driver.get(\"https://mattilbud.no/kundeaviser/bunnpris-no\")\n",
    "time.sleep(2)  # Additional wait for images/lazy-loading if needed\n",
    "\n",
    "images = driver.find_elements(By.TAG_NAME, \"img\")\n",
    "print(f\"Found {len(images)} images on the page.\")\n",
    "\n",
    "# Create a directory to save downloaded images if it doesn't exist\n",
    "save_dir = \"data/downloaded_images\"\n",
    "if not os.path.exists(save_dir):\n",
    "    os.makedirs(save_dir)\n",
    "\n",
    "# Loop through each image element, extract the src attribute, and download the image\n",
    "for idx, image in enumerate(images):\n",
    "    src = image.get_attribute(\"src\")\n",
    "    if src:\n",
    "        print(f\"Downloading image {idx} from: {src}\")\n",
    "        try:\n",
    "            response = requests.get(src, stream=True)\n",
    "            if response.status_code == 200:\n",
    "                image_path = os.path.join(save_dir, f\"image_{idx}.jpg\")\n",
    "                with open(image_path, \"wb\") as f:\n",
    "                    for chunk in response.iter_content(1024):\n",
    "                        f.write(chunk)\n",
    "            else:\n",
    "                print(f\"Error: Received status code {response.status_code} for {src}\")\n",
    "        except Exception as e:\n",
    "            print(f\"Error downloading {src}: {e}\")\n",
    "\n",
    "# Clean up by closing the browser\n",
    "driver.quit()\n"
   ]
  },
  {
   "cell_type": "code",
   "execution_count": null,
   "metadata": {},
   "outputs": [
    {
     "name": "stdout",
     "output_type": "stream",
     "text": [
      "<html lang=\"nb\" translate=\"no\"><head>\n",
      "        <meta charset=\"utf-8\">\n",
      "        <meta name=\"viewport\" content=\"width=device-width, initial-scale=1.0, maximum-scale=1.0, viewport-fit=cover, user-scalable=no\">\n",
      "        <link rel=\"icon\" href=\"https://d1s5kouhg16zo9.cloudfront.net/assets/favicon-CYqIQsdC.ico\" sizes=\"any\">\n",
      "        <link rel=\"icon\" href=\"https://d1s5kouhg16zo9.cloudfront.net/assets/favicon-EFZy4zTA.svg\" type=\"image/svg+xml\">\n",
      "        <link rel=\"preconnect\" href=\"https://image-transformer-api.tjek.com\">\n",
      "        <link rel=\"apple-touch-icon\" href=\"https://d1s5kouhg16zo9.cloudfront.net/assets/apple-touch-icon-180x180-Cx5QvNEJ.png\">\n",
      "        <meta name=\"theme-color\" content=\"#f9f9f8\" media=\"(prefers-color-scheme: light)\">\n",
      "        <meta name=\"theme-color\" content=\"#292525\" media=\"(prefers-color-scheme: dark)\">\n",
      "\n",
      "        <link rel=\"manifest\" href=\"/manifest.webmanifest\" crossorigin=\"use-credentials\">\n",
      "      <link rel=\"stylesheet\" crossorigin=\"\" href=\"https://d1s5kouhg16zo9.cloudfront.net/assets/index-DhsrLpWT.css\">\n",
      "    <script async=\"\" type=\"module\" src=\"https://d1s5kouhg16zo9.cloudfront.net/assets/entry-client-HaLqRkyv.js\"></script><script id=\"vite-plugin-pwa:register-sw\" src=\"/registerSW.js\"></script>\n",
      "<title>Bunnpris kundeavis og mattilbud</title>\n",
      "<meta property=\"og:title\" content=\"Bunnpris kundeavis og mattilbud\">\n",
      "\n",
      "<meta property=\"og:description\" content=\"Les den nyeste kundeavisen fra Bunnpris på mattilbud.no\">\n",
      "<meta property=\"og:image\" content=\"/og-image-no.jpg\">\n",
      "<link rel=\"preload\" as=\"image\" href=\"https://image-transformer-api.tjek.com/?u=s3%3A%2F%2Fsgn-prd-assets%2Fuploads%2Fdwe--f-j%2Fp-1.webp&amp;w=1100&amp;s=33012ed8b3bd66e6945bb6de1981d407\" type=\"image/webp\">\n",
      "<link rel=\"preload\" as=\"image\" href=\"https://image-transformer-api.tjek.com/?u=s3%3A%2F%2Fsgn-prd-assets%2Fuploads%2Fdwe--f-j%2Fp-2.webp&amp;w=1100&amp;s=e09fbad2ba820117f10a8dda53c4ce90\" type=\"image/webp\">\n",
      "<script>window.APP_IS_STREAMING=true;</script>\n",
      "<style>app-data{display:none}</style>\n",
      "<link rel=\"modulepreload\" as=\"script\" crossorigin=\"\" href=\"https://d1s5kouhg16zo9.cloudfront.net/assets/app-DMIGBTE7.js\"><link rel=\"modulepreload\" as=\"script\" crossorigin=\"\" href=\"https://d1s5kouhg16zo9.cloudfront.net/assets/vendor-3eAiDFeT.js\"><link rel=\"stylesheet\" crossorigin=\"\" href=\"https://d1s5kouhg16zo9.cloudfront.net/assets/app-CQG4_s2A.css\"><meta name=\"description\" content=\"Les den nyeste kundeavisen fra Bunnpris på mattilbud.no\"></head>\n",
      "    <body class=\"pb-safe !mr-0 bg-stone-50 text-black dark:bg-stone-800 dark:text-white\">\n",
      "        \n",
      "        <script>\n",
      "            document.getElementsByTagName(\"noscript\").item(0).remove();\n",
      "            if (!(\"globalThis\" in window)) {\n",
      "                document.write(\n",
      "                    '<div id=\"unsupported-browser\"><h1>Your browser is not supported</h1><h2>Please upgrade to a newer browser</h2></div>',\n",
      "                );\n",
      "            }\n",
      "        </script>\n",
      "\n",
      "        <div id=\"app\" vaul-drawer-wrapper=\"\"><div><div><header class=\"pt-safe pointer-events-none fixed inset-x-0 top-0 z-10 flex w-full justify-center px-6\"><div class=\"flex max-w-4xl flex-1 flex-row items-baseline justify-between gap-1 pb-2 pt-4\"><div class=\"top-4 z-10 flex w-full max-w-4xl justify-between\"><a aria-label=\"Tilbake\" href=\"/\"><div class=\"pointer-events-auto flex h-12 w-12 items-center justify-center rounded-full bg-stone-800/70 p-1.5 text-white shadow-lg ring-0 ring-neutral-600 backdrop-blur-sm transition-all hover:scale-105 dark:ring-1\"><svg xmlns=\"http://www.w3.org/2000/svg\" viewBox=\"0 0 24 24\" fill=\"currentColor\" aria-hidden=\"true\" data-slot=\"icon\" class=\"w-6\"><path fill-rule=\"evenodd\" d=\"M5.47 5.47a.75.75 0 0 1 1.06 0L12 10.94l5.47-5.47a.75.75 0 1 1 1.06 1.06L13.06 12l5.47 5.47a.75.75 0 1 1-1.06 1.06L12 13.06l-5.47 5.47a.75.75 0 0 1-1.06-1.06L10.94 12 5.47 6.53a.75.75 0 0 1 0-1.06Z\" clip-rule=\"evenodd\"></path></svg></div></a><button class=\"pointer-events-auto relative flex h-12 w-12 items-center justify-center rounded-full bg-stone-800/70 p-1.5 text-white shadow-lg outline outline-0 outline-offset-0 outline-neutral-600 backdrop-blur-sm transition-all hover:scale-105 dark:outline-1\" type=\"button\" aria-haspopup=\"dialog\" aria-expanded=\"false\" aria-controls=\"radix-:r0:\" data-state=\"closed\"><svg xmlns=\"http://www.w3.org/2000/svg\" fill=\"none\" viewBox=\"0 0 24 24\" stroke-width=\"1.5\" stroke=\"currentColor\" aria-hidden=\"true\" data-slot=\"icon\" class=\"w-6\"><path stroke-linecap=\"round\" stroke-linejoin=\"round\" d=\"M12 6.042A8.967 8.967 0 0 0 6 3.75c-1.052 0-2.062.18-3 .512v14.25A8.987 8.987 0 0 1 6 18c2.305 0 4.408.867 6 2.292m0-14.25a8.966 8.966 0 0 1 6-2.292c1.052 0 2.062.18 3 .512v14.25A8.987 8.987 0 0 0 18 18a8.967 8.967 0 0 0-6 2.292m0-14.25v14.25\"></path></svg><span class=\"bg-brand absolute right-0 top-0 flex h-6 w-6 -translate-y-1/3 translate-x-1/3 transform items-center justify-center rounded-full text-xs font-semibold text-white\">1</span></button></div></div></header><div class=\"min-h-dvh\"><div><div class=\"px-safe relative\"><div class=\"mt-safe fade-in pointer-events-none fixed left-1/2 top-3 z-10 max-w-56 -translate-x-1/2 whitespace-nowrap rounded-full bg-stone-800/70 px-8 py-1 text-base font-normal tabular-nums text-white shadow-lg backdrop-blur-sm sm:max-w-72\"><h1 class=\"truncate text-center font-bold\">Bunnpris</h1><p class=\"text-center\">31. mars–6. apr.</p></div><div><div role=\"button\" tabindex=\"0\" class=\"py-safe select-none\" style=\"width: calc(-15px + 100vw);\"><div class=\"m-auto py-20 h-full max-w-2xl\"><img alt=\"Side 1\" src=\"https://image-transformer-api.tjek.com/?u=s3%3A%2F%2Fsgn-prd-assets%2Fuploads%2Fdwe--f-j%2Fp-1.webp&amp;w=1100&amp;s=33012ed8b3bd66e6945bb6de1981d407\" data-pagenumber=\"1\" class=\"mb-2 block w-full rounded-lg shadow-lg transition-opacity duration-500\" loading=\"eager\" width=\"1100\" height=\"1556.05934\" style=\"aspect-ratio: 0.706914 / 1; opacity: 1;\"><img alt=\"Side 2\" src=\"https://image-transformer-api.tjek.com/?u=s3%3A%2F%2Fsgn-prd-assets%2Fuploads%2Fdwe--f-j%2Fp-2.webp&amp;w=1100&amp;s=e09fbad2ba820117f10a8dda53c4ce90\" data-pagenumber=\"2\" class=\"mb-2 block w-full rounded-lg shadow-lg transition-opacity duration-500\" loading=\"eager\" width=\"1100\" height=\"1556.05934\" style=\"aspect-ratio: 0.706914 / 1; opacity: 1;\"><img alt=\"Side 3\" src=\"https://image-transformer-api.tjek.com/?u=s3%3A%2F%2Fsgn-prd-assets%2Fuploads%2Fdwe--f-j%2Fp-3.webp&amp;w=1100&amp;s=3465aceff4aed6ef4daf67c20743e686\" data-pagenumber=\"3\" class=\"mb-2 block w-full rounded-lg shadow-lg transition-opacity duration-500\" loading=\"eager\" width=\"1100\" height=\"1556.05934\" style=\"aspect-ratio: 0.706914 / 1; opacity: 1;\"><img alt=\"Side 4\" src=\"https://image-transformer-api.tjek.com/?u=s3%3A%2F%2Fsgn-prd-assets%2Fuploads%2Fdwe--f-j%2Fp-4.webp&amp;w=1100&amp;s=01018200913b0bfce1eb58c5d6be084f\" data-pagenumber=\"4\" class=\"mb-2 block w-full rounded-lg shadow-lg transition-opacity duration-500\" loading=\"eager\" width=\"1100\" height=\"1556.05934\" style=\"aspect-ratio: 0.706914 / 1; opacity: 1;\"><img alt=\"Side 5\" src=\"https://image-transformer-api.tjek.com/?u=s3%3A%2F%2Fsgn-prd-assets%2Fuploads%2Fdwe--f-j%2Fp-5.webp&amp;w=1100&amp;s=f78c500a5ac35a6d47313976c32680e2\" data-pagenumber=\"5\" class=\"mb-2 block w-full rounded-lg shadow-lg \" loading=\"lazy\" width=\"1100\" height=\"1556.05934\" style=\"aspect-ratio: 0.706914 / 1; opacity: 1;\"><img alt=\"Side 6\" src=\"https://image-transformer-api.tjek.com/?u=s3%3A%2F%2Fsgn-prd-assets%2Fuploads%2Fdwe--f-j%2Fp-6.webp&amp;w=1100&amp;s=3be04ec92366afc72b0bd5b381e0d5e8\" data-pagenumber=\"6\" class=\"mb-2 block w-full rounded-lg shadow-lg \" loading=\"lazy\" width=\"1100\" height=\"1556.05934\" style=\"aspect-ratio: 0.706914 / 1; opacity: 1;\"><img alt=\"Side 7\" src=\"https://image-transformer-api.tjek.com/?u=s3%3A%2F%2Fsgn-prd-assets%2Fuploads%2Fdwe--f-j%2Fp-7.webp&amp;w=1100&amp;s=65ec2eb4bbb9265e2314ebb1a6594179\" data-pagenumber=\"7\" class=\"mb-2 block w-full rounded-lg shadow-lg \" loading=\"lazy\" width=\"1100\" height=\"1556.05934\" style=\"aspect-ratio: 0.706914 / 1; opacity: 1;\"><img alt=\"Side 8\" src=\"https://image-transformer-api.tjek.com/?u=s3%3A%2F%2Fsgn-prd-assets%2Fuploads%2Fdwe--f-j%2Fp-8.webp&amp;w=1100&amp;s=9760568f9e9ea371e5ff0b78fa8adf12\" data-pagenumber=\"8\" class=\"mb-2 block w-full rounded-lg shadow-lg \" loading=\"lazy\" width=\"1100\" height=\"1556.05934\" style=\"aspect-ratio: 0.706914 / 1; opacity: 1;\"><img alt=\"Side 9\" src=\"https://image-transformer-api.tjek.com/?u=s3%3A%2F%2Fsgn-prd-assets%2Fuploads%2Fdwe--f-j%2Fp-9.webp&amp;w=1100&amp;s=99251ab7a245b046a555da323e48fb9f\" data-pagenumber=\"9\" class=\"mb-2 block w-full rounded-lg shadow-lg \" loading=\"lazy\" width=\"1100\" height=\"1556.05934\" style=\"aspect-ratio: 0.706914 / 1; opacity: 1;\"><img alt=\"Side 10\" src=\"https://image-transformer-api.tjek.com/?u=s3%3A%2F%2Fsgn-prd-assets%2Fuploads%2Fdwe--f-j%2Fp-10.webp&amp;w=1100&amp;s=6cd833eea8db3529d6b5defe05424bfd\" data-pagenumber=\"10\" class=\"mb-2 block w-full rounded-lg shadow-lg \" loading=\"lazy\" width=\"1100\" height=\"1556.05934\" style=\"aspect-ratio: 0.706914 / 1; opacity: 1;\"><img alt=\"Side 11\" src=\"https://image-transformer-api.tjek.com/?u=s3%3A%2F%2Fsgn-prd-assets%2Fuploads%2Fdwe--f-j%2Fp-11.webp&amp;w=1100&amp;s=53ec220b799536f589d66c06ddc298bf\" data-pagenumber=\"11\" class=\"mb-2 block w-full rounded-lg shadow-lg \" loading=\"lazy\" width=\"1100\" height=\"1556.05934\" style=\"aspect-ratio: 0.706914 / 1; opacity: 1;\"><img alt=\"Side 12\" src=\"https://image-transformer-api.tjek.com/?u=s3%3A%2F%2Fsgn-prd-assets%2Fuploads%2Fdwe--f-j%2Fp-12.webp&amp;w=1100&amp;s=e513228e0c0fa8298b2a3c5f85cb0a51\" data-pagenumber=\"12\" class=\"mb-2 block w-full rounded-lg shadow-lg \" loading=\"lazy\" width=\"1100\" height=\"1556.05934\" style=\"aspect-ratio: 0.706914 / 1; opacity: 1;\"><img alt=\"Side 13\" src=\"https://image-transformer-api.tjek.com/?u=s3%3A%2F%2Fsgn-prd-assets%2Fuploads%2Fdwe--f-j%2Fp-13.webp&amp;w=1100&amp;s=a66f01e1ba01974959b78b2079107685\" data-pagenumber=\"13\" class=\"mb-2 block w-full rounded-lg shadow-lg \" loading=\"lazy\" width=\"1100\" height=\"1556.05934\" style=\"aspect-ratio: 0.706914 / 1; opacity: 1;\"><img alt=\"Side 14\" src=\"https://image-transformer-api.tjek.com/?u=s3%3A%2F%2Fsgn-prd-assets%2Fuploads%2Fdwe--f-j%2Fp-14.webp&amp;w=1100&amp;s=f79c04c6a269453e7441fae1cbb17a34\" data-pagenumber=\"14\" class=\"mb-2 block w-full rounded-lg shadow-lg \" loading=\"lazy\" width=\"1100\" height=\"1556.05934\" style=\"aspect-ratio: 0.706914 / 1; opacity: 1;\"><img alt=\"Side 15\" src=\"https://image-transformer-api.tjek.com/?u=s3%3A%2F%2Fsgn-prd-assets%2Fuploads%2Fdwe--f-j%2Fp-15.webp&amp;w=1100&amp;s=d1778449cd92818b8711724173c22dce\" data-pagenumber=\"15\" class=\"mb-2 block w-full rounded-lg shadow-lg \" loading=\"lazy\" width=\"1100\" height=\"1556.05934\" style=\"aspect-ratio: 0.706914 / 1; opacity: 1;\"><img alt=\"Side 16\" src=\"https://image-transformer-api.tjek.com/?u=s3%3A%2F%2Fsgn-prd-assets%2Fuploads%2Fdwe--f-j%2Fp-16.webp&amp;w=1100&amp;s=e2216cddafcf003b98ac9ec84ed80187\" data-pagenumber=\"16\" class=\"mb-2 block w-full rounded-lg shadow-lg \" loading=\"lazy\" width=\"1100\" height=\"1556.05934\" style=\"aspect-ratio: 0.706914 / 1; opacity: 1;\"><img alt=\"Side 17\" src=\"https://image-transformer-api.tjek.com/?u=s3%3A%2F%2Fsgn-prd-assets%2Fuploads%2Fdwe--f-j%2Fp-17.webp&amp;w=1100&amp;s=3b217d46498c4aed45e4865e444963f6\" data-pagenumber=\"17\" class=\"mb-2 block w-full rounded-lg shadow-lg \" loading=\"lazy\" width=\"1100\" height=\"1556.05934\" style=\"aspect-ratio: 0.706914 / 1; opacity: 1;\"><img alt=\"Side 18\" src=\"https://image-transformer-api.tjek.com/?u=s3%3A%2F%2Fsgn-prd-assets%2Fuploads%2Fdwe--f-j%2Fp-18.webp&amp;w=1100&amp;s=f4e9e67ec5df77bfa902f20bea6d32a6\" data-pagenumber=\"18\" class=\"mb-2 block w-full rounded-lg shadow-lg \" loading=\"lazy\" width=\"1100\" height=\"1556.05934\" style=\"aspect-ratio: 0.706914 / 1; opacity: 1;\"><img alt=\"Side 19\" src=\"https://image-transformer-api.tjek.com/?u=s3%3A%2F%2Fsgn-prd-assets%2Fuploads%2Fdwe--f-j%2Fp-19.webp&amp;w=1100&amp;s=6d043b009f6a6e2b91381fdbfd460f32\" data-pagenumber=\"19\" class=\"mb-2 block w-full rounded-lg shadow-lg \" loading=\"lazy\" width=\"1100\" height=\"1556.05934\" style=\"aspect-ratio: 0.706914 / 1; opacity: 1;\"><img alt=\"Side 20\" src=\"https://image-transformer-api.tjek.com/?u=s3%3A%2F%2Fsgn-prd-assets%2Fuploads%2Fdwe--f-j%2Fp-20.webp&amp;w=1100&amp;s=e2ab250947d99ff1824e8ee40308228f\" data-pagenumber=\"20\" class=\"mb-2 block w-full rounded-lg shadow-lg \" loading=\"lazy\" width=\"1100\" height=\"1556.05934\" style=\"aspect-ratio: 0.706914 / 1; opacity: 1;\"><img alt=\"Side 21\" src=\"https://image-transformer-api.tjek.com/?u=s3%3A%2F%2Fsgn-prd-assets%2Fuploads%2Fdwe--f-j%2Fp-21.webp&amp;w=1100&amp;s=aa0f0826a08c7ba2e395d3556ec24816\" data-pagenumber=\"21\" class=\"mb-2 block w-full rounded-lg shadow-lg \" loading=\"lazy\" width=\"1100\" height=\"1556.05934\" style=\"aspect-ratio: 0.706914 / 1; opacity: 1;\"><img alt=\"Side 22\" src=\"https://image-transformer-api.tjek.com/?u=s3%3A%2F%2Fsgn-prd-assets%2Fuploads%2Fdwe--f-j%2Fp-22.webp&amp;w=1100&amp;s=f509cb396bc02c6f54b9a6207af562f3\" data-pagenumber=\"22\" class=\"mb-2 block w-full rounded-lg shadow-lg \" loading=\"lazy\" width=\"1100\" height=\"1556.05934\" style=\"aspect-ratio: 0.706914 / 1; opacity: 1;\"></div></div></div></div></div></div></div></div></div>\n",
      "    <div id=\"app-data\" data-nosnippet=\"\" aria-hidden=\"true\"><app-data data-key=\"WyJsb2NhdGlvbiIsbnVsbF0=\" data-size=\"91\" data-status=\"success\">{\"latitude\":59.913869,\"longitude\":10.752245,\"city\":\"Oslo\",\"country\":\"NO\",\"mode\":\"fallback\"}</app-data><app-data data-key=\"WyJidXNpbmVzcyIseyJidXNpbmVzc1NsdWciOiJidW5ucHJpcyIsImNvdW50cnlDb2RlIjoibm8ifV0=\" data-size=\"5625\" data-status=\"success\">{\"business\":{\"public_id\":\"5b11sm\",\"name\":\"Bunnpris\",\"country_code\":\"NO\",\"positive_logotype\":\"s3://sgn-prd-assets/uploads/5b11sm/ZsT8Ux0VHf4B68sFotNRM\",\"negative_logotype\":\"s3://sgn-prd-assets/uploads/5b11sm/2cffCpdymeWc09sj-CjC-\"},\"businessPositiveLogotypeImage\":\"https://image-transformer-api.tjek.com/?_id=v2&amp;h=200&amp;u=s3%3A%2F%2Fsgn-prd-assets%2Fuploads%2F5b11sm%2FZsT8Ux0VHf4B68sFotNRM&amp;w=320&amp;s=476ec379ebf912276eca97010ec1cfa3\",\"businessNegativeLogotypeImage\":\"https://image-transformer-api.tjek.com/?_id=v2&amp;h=200&amp;u=s3%3A%2F%2Fsgn-prd-assets%2Fuploads%2F5b11sm%2F2cffCpdymeWc09sj-CjC-&amp;w=320&amp;s=5af5dc2526e24ce628e298b0c120357d\",\"publications\":[{\"public_id\":\"dwe--f-j\",\"name\":\"Kundeavis uke 14\",\"paged_page_count\":22,\"valid_from\":\"2025-03-30T22:00:00+0000\",\"valid_until\":\"2025-04-06T21:59:59+0000\",\"primary_color\":\"231f20\",\"is_paged\":true,\"is_incito\":false,\"paged_ratio\":1.4145994,\"thumbnail\":{\"url\":\"https://image-transformer-api.tjek.com/?u=s3%3A%2F%2Fsgn-prd-assets%2Fuploads%2Fdwe--f-j%2Fp-1.webp&amp;w=250&amp;s=ab05345d6b9f23114e47156be9828c9d\"},\"pageImages\":[{\"width\":1100,\"height\":1556.05934,\"url\":\"https://image-transformer-api.tjek.com/?u=s3%3A%2F%2Fsgn-prd-assets%2Fuploads%2Fdwe--f-j%2Fp-1.webp&amp;w=1100&amp;s=33012ed8b3bd66e6945bb6de1981d407\"},{\"width\":1100,\"height\":1556.05934,\"url\":\"https://image-transformer-api.tjek.com/?u=s3%3A%2F%2Fsgn-prd-assets%2Fuploads%2Fdwe--f-j%2Fp-2.webp&amp;w=1100&amp;s=e09fbad2ba820117f10a8dda53c4ce90\"},{\"width\":1100,\"height\":1556.05934,\"url\":\"https://image-transformer-api.tjek.com/?u=s3%3A%2F%2Fsgn-prd-assets%2Fuploads%2Fdwe--f-j%2Fp-3.webp&amp;w=1100&amp;s=3465aceff4aed6ef4daf67c20743e686\"},{\"width\":1100,\"height\":1556.05934,\"url\":\"https://image-transformer-api.tjek.com/?u=s3%3A%2F%2Fsgn-prd-assets%2Fuploads%2Fdwe--f-j%2Fp-4.webp&amp;w=1100&amp;s=01018200913b0bfce1eb58c5d6be084f\"},{\"width\":1100,\"height\":1556.05934,\"url\":\"https://image-transformer-api.tjek.com/?u=s3%3A%2F%2Fsgn-prd-assets%2Fuploads%2Fdwe--f-j%2Fp-5.webp&amp;w=1100&amp;s=f78c500a5ac35a6d47313976c32680e2\"},{\"width\":1100,\"height\":1556.05934,\"url\":\"https://image-transformer-api.tjek.com/?u=s3%3A%2F%2Fsgn-prd-assets%2Fuploads%2Fdwe--f-j%2Fp-6.webp&amp;w=1100&amp;s=3be04ec92366afc72b0bd5b381e0d5e8\"},{\"width\":1100,\"height\":1556.05934,\"url\":\"https://image-transformer-api.tjek.com/?u=s3%3A%2F%2Fsgn-prd-assets%2Fuploads%2Fdwe--f-j%2Fp-7.webp&amp;w=1100&amp;s=65ec2eb4bbb9265e2314ebb1a6594179\"},{\"width\":1100,\"height\":1556.05934,\"url\":\"https://image-transformer-api.tjek.com/?u=s3%3A%2F%2Fsgn-prd-assets%2Fuploads%2Fdwe--f-j%2Fp-8.webp&amp;w=1100&amp;s=9760568f9e9ea371e5ff0b78fa8adf12\"},{\"width\":1100,\"height\":1556.05934,\"url\":\"https://image-transformer-api.tjek.com/?u=s3%3A%2F%2Fsgn-prd-assets%2Fuploads%2Fdwe--f-j%2Fp-9.webp&amp;w=1100&amp;s=99251ab7a245b046a555da323e48fb9f\"},{\"width\":1100,\"height\":1556.05934,\"url\":\"https://image-transformer-api.tjek.com/?u=s3%3A%2F%2Fsgn-prd-assets%2Fuploads%2Fdwe--f-j%2Fp-10.webp&amp;w=1100&amp;s=6cd833eea8db3529d6b5defe05424bfd\"},{\"width\":1100,\"height\":1556.05934,\"url\":\"https://image-transformer-api.tjek.com/?u=s3%3A%2F%2Fsgn-prd-assets%2Fuploads%2Fdwe--f-j%2Fp-11.webp&amp;w=1100&amp;s=53ec220b799536f589d66c06ddc298bf\"},{\"width\":1100,\"height\":1556.05934,\"url\":\"https://image-transformer-api.tjek.com/?u=s3%3A%2F%2Fsgn-prd-assets%2Fuploads%2Fdwe--f-j%2Fp-12.webp&amp;w=1100&amp;s=e513228e0c0fa8298b2a3c5f85cb0a51\"},{\"width\":1100,\"height\":1556.05934,\"url\":\"https://image-transformer-api.tjek.com/?u=s3%3A%2F%2Fsgn-prd-assets%2Fuploads%2Fdwe--f-j%2Fp-13.webp&amp;w=1100&amp;s=a66f01e1ba01974959b78b2079107685\"},{\"width\":1100,\"height\":1556.05934,\"url\":\"https://image-transformer-api.tjek.com/?u=s3%3A%2F%2Fsgn-prd-assets%2Fuploads%2Fdwe--f-j%2Fp-14.webp&amp;w=1100&amp;s=f79c04c6a269453e7441fae1cbb17a34\"},{\"width\":1100,\"height\":1556.05934,\"url\":\"https://image-transformer-api.tjek.com/?u=s3%3A%2F%2Fsgn-prd-assets%2Fuploads%2Fdwe--f-j%2Fp-15.webp&amp;w=1100&amp;s=d1778449cd92818b8711724173c22dce\"},{\"width\":1100,\"height\":1556.05934,\"url\":\"https://image-transformer-api.tjek.com/?u=s3%3A%2F%2Fsgn-prd-assets%2Fuploads%2Fdwe--f-j%2Fp-16.webp&amp;w=1100&amp;s=e2216cddafcf003b98ac9ec84ed80187\"},{\"width\":1100,\"height\":1556.05934,\"url\":\"https://image-transformer-api.tjek.com/?u=s3%3A%2F%2Fsgn-prd-assets%2Fuploads%2Fdwe--f-j%2Fp-17.webp&amp;w=1100&amp;s=3b217d46498c4aed45e4865e444963f6\"},{\"width\":1100,\"height\":1556.05934,\"url\":\"https://image-transformer-api.tjek.com/?u=s3%3A%2F%2Fsgn-prd-assets%2Fuploads%2Fdwe--f-j%2Fp-18.webp&amp;w=1100&amp;s=f4e9e67ec5df77bfa902f20bea6d32a6\"},{\"width\":1100,\"height\":1556.05934,\"url\":\"https://image-transformer-api.tjek.com/?u=s3%3A%2F%2Fsgn-prd-assets%2Fuploads%2Fdwe--f-j%2Fp-19.webp&amp;w=1100&amp;s=6d043b009f6a6e2b91381fdbfd460f32\"},{\"width\":1100,\"height\":1556.05934,\"url\":\"https://image-transformer-api.tjek.com/?u=s3%3A%2F%2Fsgn-prd-assets%2Fuploads%2Fdwe--f-j%2Fp-20.webp&amp;w=1100&amp;s=e2ab250947d99ff1824e8ee40308228f\"},{\"width\":1100,\"height\":1556.05934,\"url\":\"https://image-transformer-api.tjek.com/?u=s3%3A%2F%2Fsgn-prd-assets%2Fuploads%2Fdwe--f-j%2Fp-21.webp&amp;w=1100&amp;s=aa0f0826a08c7ba2e395d3556ec24816\"},{\"width\":1100,\"height\":1556.05934,\"url\":\"https://image-transformer-api.tjek.com/?u=s3%3A%2F%2Fsgn-prd-assets%2Fuploads%2Fdwe--f-j%2Fp-22.webp&amp;w=1100&amp;s=f509cb396bc02c6f54b9a6207af562f3\"}]},{\"public_id\":\"3mfkHVga\",\"name\":\"Fruktonsdag uke 14\",\"paged_page_count\":0,\"valid_from\":\"2025-04-01T22:00:00+0000\",\"valid_until\":\"2025-04-02T21:59:59+0000\",\"primary_color\":\"231f20\",\"is_paged\":false,\"is_incito\":true,\"paged_ratio\":null,\"thumbnail\":{\"url\":\"https://image-transformer-api.tjek.com/?u=s3%3A%2F%2Fsgn-prd-assets%2Fuploads%2F5b11sm%2Fsync-publications-incito-2025-04-02-to-2025-04-03-2025-04-02-2025-04-03-cover&amp;w=250&amp;s=2d5bca6b0cc97eb08a14a35f0427d073\"},\"pageImages\":null}]}</app-data></div>\n",
      "\n",
      "<div></div></body></html>\n",
      "[]\n"
     ]
    }
   ],
   "source": [
    "from selenium import webdriver\n",
    "\n",
    "\n",
    "driver = webdriver.Chrome()\n",
    "\n",
    "driver.get(\"https://mattilbud.no/kundeaviser/bunnpris-no\")\n",
    "\n",
    "wait = WebDriverWait(driver, timeout=2)\n",
    "time.sleep(2)\n",
    "# Get the fully rendered page source\n",
    "rendered_html = driver.page_source\n",
    "print(rendered_html)\n",
    "\n",
    "all_cookies=driver.get_cookies()\n",
    "cookies_dict = {} \n",
    "for cookie in all_cookies:\n",
    "    cookies_dict[cookie['name']] = cookie['value']\n",
    "\n",
    "driver.quit()\n",
    "\n"
   ]
  },
  {
   "cell_type": "code",
   "execution_count": 27,
   "metadata": {},
   "outputs": [
    {
     "data": {
      "text/plain": [
       "[]"
      ]
     },
     "execution_count": 27,
     "metadata": {},
     "output_type": "execute_result"
    }
   ],
   "source": [
    "all_cookies"
   ]
  },
  {
   "cell_type": "code",
   "execution_count": null,
   "metadata": {},
   "outputs": [],
   "source": [
    "response = requests.get('http://localhost:8000/posts', cookies=all_cookies)"
   ]
  },
  {
   "cell_type": "code",
   "execution_count": null,
   "metadata": {},
   "outputs": [],
   "source": [
    "from selenium import webdriver\n",
    "from selenium.webdriver.chrome.options import Options\n",
    "import time\n",
    "# Path to your Chrome user data directory (adjust accordingly)\n",
    "user_data_dir = \"/home/sverrnys/.config/google-chrome\"\n",
    "# The specific profile folder (e.g., 'Default', 'Profile 1', etc.)\n",
    "profile_folder = \"Default\"\n",
    "chrome_options = Options()\n",
    "chrome_options.add_argument(f\"--user-data-dir={user_data_dir}\")\n",
    "chrome_options.add_argument(f\"--profile-directory={profile_folder}\")\n",
    "# Initialize WebDriver with your existing profile\n",
    "driver = webdriver.Chrome(options=chrome_options)\n",
    "# Navigate to the site\n",
    "driver.get(\"https://mattilbud.no/kundeaviser/bunnpris-no\")\n",
    "time.sleep(3)\n",
    "# Now that your existing profile is in use, Selenium will have\n",
    "# the same cookies/credentials that your normal Chrome profile has\n",
    "html = driver.page_source\n",
    "print(html)\n",
    "driver.quit()\n"
   ]
  }
 ],
 "metadata": {
  "kernelspec": {
   "display_name": ".venv",
   "language": "python",
   "name": "python3"
  },
  "language_info": {
   "codemirror_mode": {
    "name": "ipython",
    "version": 3
   },
   "file_extension": ".py",
   "mimetype": "text/x-python",
   "name": "python",
   "nbconvert_exporter": "python",
   "pygments_lexer": "ipython3",
   "version": "3.11.2"
  }
 },
 "nbformat": 4,
 "nbformat_minor": 2
}
